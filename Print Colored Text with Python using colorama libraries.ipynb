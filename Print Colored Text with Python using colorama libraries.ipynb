{
 "cells": [
  {
   "cell_type": "code",
   "execution_count": 23,
   "metadata": {},
   "outputs": [
    {
     "name": "stdout",
     "output_type": "stream",
     "text": [
      "Hi My name is Aman Kharwal I am your Machine Learning Instructor\n",
      "Hi My name is Aman Kharwal\n",
      "Hi My name is Aman Kharwal\n"
     ]
    }
   ],
   "source": [
    "import colorama\n",
    "from colorama import Fore, Back, Style\n",
    "colorama.init(autoreset=True)\n",
    "\n",
    "print(Fore.BLUE+Back.YELLOW+\"Hi My name is Aman Kharwal \"+ Fore.YELLOW+ Back.BLUE+\"I am your Machine Learning Instructor\")\n",
    "print(Back.CYAN+\"Hi My name is Aman Kharwal\")\n",
    "print(Fore.RED + Back.GREEN+ \"Hi My name is Aman Kharwal\")"
   ]
  },
  {
   "cell_type": "code",
   "execution_count": null,
   "metadata": {},
   "outputs": [],
   "source": []
  }
 ],
 "metadata": {
  "kernelspec": {
   "display_name": "Python 3",
   "language": "python",
   "name": "python3"
  },
  "language_info": {
   "codemirror_mode": {
    "name": "ipython",
    "version": 3
   },
   "file_extension": ".py",
   "mimetype": "text/x-python",
   "name": "python",
   "nbconvert_exporter": "python",
   "pygments_lexer": "ipython3",
   "version": "3.8.5"
  }
 },
 "nbformat": 4,
 "nbformat_minor": 4
}
